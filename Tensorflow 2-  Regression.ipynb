{
 "cells": [
  {
   "cell_type": "code",
   "execution_count": 1,
   "metadata": {},
   "outputs": [
    {
     "name": "stderr",
     "output_type": "stream",
     "text": [
      "C:\\Users\\Dell\\Anaconda3\\lib\\site-packages\\h5py\\__init__.py:36: FutureWarning: Conversion of the second argument of issubdtype from `float` to `np.floating` is deprecated. In future, it will be treated as `np.float64 == np.dtype(float).type`.\n",
      "  from ._conv import register_converters as _register_converters\n"
     ]
    },
    {
     "name": "stdout",
     "output_type": "stream",
     "text": [
      "2.0.0\n"
     ]
    }
   ],
   "source": [
    "#Importing Dependencies\n",
    "\n",
    "import tensorflow as tf\n",
    "print(tf.__version__)\n",
    "\n",
    "import numpy as np\n",
    "import pandas as pd\n",
    "import matplotlib.pyplot as plt"
   ]
  },
  {
   "cell_type": "code",
   "execution_count": 2,
   "metadata": {},
   "outputs": [],
   "source": [
    "#Reading Data and preprocessing\n",
    "\n",
    "data = pd.read_csv(r\"E:\\machine_learning_examples\\tf2.0\\moore.csv\", header=None).values\n",
    "\n",
    "\n",
    "X = data[:,0].reshape(-1,1)    #Converting 1-D vector to 1*1 array\n",
    "Y = data[:,1]\n",
    "\n",
    "print(X.shape)\n",
    "print(Y.shape)"
   ]
  },
  {
   "cell_type": "code",
   "execution_count": 3,
   "metadata": {},
   "outputs": [
    {
     "name": "stdout",
     "output_type": "stream",
     "text": [
      "(162, 1)\n",
      "(162,)\n"
     ]
    }
   ],
   "source": []
  },
  {
   "cell_type": "code",
   "execution_count": 4,
   "metadata": {},
   "outputs": [
    {
     "data": {
      "text/plain": [
       "<matplotlib.collections.PathCollection at 0x1cf44837da0>"
      ]
     },
     "execution_count": 4,
     "metadata": {},
     "output_type": "execute_result"
    },
    {
     "data": {
      "image/png": "[encoded data removed]",
      "text/plain": [
       "<Figure size 432x288 with 1 Axes>"
      ]
     },
     "metadata": {},
     "output_type": "display_data"
    }
   ],
   "source": [
    "plt.scatter(X,Y)"
   ]
  },
  {
   "cell_type": "code",
   "execution_count": 5,
   "metadata": {},
   "outputs": [
    {
     "data": {
      "text/plain": [
       "<matplotlib.collections.PathCollection at 0x1cf448f12b0>"
      ]
     },
     "execution_count": 5,
     "metadata": {},
     "output_type": "execute_result"
    },
    {
     "data": {
      "image/png": "[encoded data removed]",
      "text/plain": [
       "<Figure size 432x288 with 1 Axes>"
      ]
     },
     "metadata": {},
     "output_type": "display_data"
    }
   ],
   "source": [
    "Y = np.log(Y)\n",
    "plt.scatter(X, Y)"
   ]
  },
  {
   "cell_type": "code",
   "execution_count": 6,
   "metadata": {},
   "outputs": [],
   "source": [
    "X = X - X.mean()"
   ]
  },
  {
   "cell_type": "code",
   "execution_count": 7,
   "metadata": {},
   "outputs": [],
   "source": [
    "model = tf.keras.models.Sequential([\n",
    "    tf.keras.layers.Input(shape=(1,)),\n",
    "    tf.keras.layers.Dense(1)\n",
    "])"
   ]
  },
  {
   "cell_type": "code",
   "execution_count": 8,
   "metadata": {
    "scrolled": true
   },
   "outputs": [
    {
     "name": "stdout",
     "output_type": "stream",
     "text": [
      "Train on 162 samples\n",
      "Epoch 1/200\n",
      "162/162 [==============================] - 1s 9ms/sample - loss: 462.2349\n",
      "Epoch 2/200\n",
      "162/162 [==============================] - 0s 166us/sample - loss: 641.7109\n",
      "Epoch 3/200\n",
      "162/162 [==============================] - 0s 80us/sample - loss: 338.9725\n",
      "Epoch 4/200\n",
      "162/162 [==============================] - 0s 74us/sample - loss: 271.8864\n",
      "Epoch 5/200\n",
      "162/162 [==============================] - 0s 86us/sample - loss: 273.6470\n",
      "Epoch 6/200\n",
      "162/162 [==============================] - 0s 68us/sample - loss: 220.9272\n",
      "Epoch 7/200\n",
      "162/162 [==============================] - 0s 80us/sample - loss: 110.0171\n",
      "Epoch 8/200\n",
      "162/162 [==============================] - 0s 80us/sample - loss: 64.3584\n",
      "Epoch 9/200\n",
      "162/162 [==============================] - 0s 74us/sample - loss: 45.4522\n",
      "Epoch 10/200\n",
      "162/162 [==============================] - 0s 86us/sample - loss: 33.0627\n",
      "Epoch 11/200\n",
      "162/162 [==============================] - 0s 86us/sample - loss: 24.8862\n",
      "Epoch 12/200\n",
      "162/162 [==============================] - 0s 92us/sample - loss: 18.0352\n",
      "Epoch 13/200\n",
      "162/162 [==============================] - 0s 86us/sample - loss: 13.6955\n",
      "Epoch 14/200\n",
      "162/162 [==============================] - 0s 68us/sample - loss: 10.2358\n",
      "Epoch 15/200\n",
      "162/162 [==============================] - 0s 86us/sample - loss: 7.7986\n",
      "Epoch 16/200\n",
      "162/162 [==============================] - 0s 80us/sample - loss: 5.6556\n",
      "Epoch 17/200\n",
      "162/162 [==============================] - 0s 86us/sample - loss: 4.3614\n",
      "Epoch 18/200\n",
      "162/162 [==============================] - 0s 74us/sample - loss: 3.3396\n",
      "Epoch 19/200\n",
      "162/162 [==============================] - 0s 86us/sample - loss: 2.5744\n",
      "Epoch 20/200\n",
      "162/162 [==============================] - 0s 86us/sample - loss: 2.3573\n",
      "Epoch 21/200\n",
      "162/162 [==============================] - 0s 74us/sample - loss: 1.9594\n",
      "Epoch 22/200\n",
      "162/162 [==============================] - 0s 68us/sample - loss: 1.5222\n",
      "Epoch 23/200\n",
      "162/162 [==============================] - 0s 86us/sample - loss: 1.4233\n",
      "Epoch 24/200\n",
      "162/162 [==============================] - 0s 86us/sample - loss: 1.2819\n",
      "Epoch 25/200\n",
      "162/162 [==============================] - 0s 86us/sample - loss: 1.1619\n",
      "Epoch 26/200\n",
      "162/162 [==============================] - 0s 80us/sample - loss: 1.0593\n",
      "Epoch 27/200\n",
      "162/162 [==============================] - 0s 80us/sample - loss: 1.0945\n",
      "Epoch 28/200\n",
      "162/162 [==============================] - 0s 68us/sample - loss: 1.0969\n",
      "Epoch 29/200\n",
      "162/162 [==============================] - 0s 68us/sample - loss: 1.0487\n",
      "Epoch 30/200\n",
      "162/162 [==============================] - 0s 86us/sample - loss: 1.1520\n",
      "Epoch 31/200\n",
      "162/162 [==============================] - 0s 74us/sample - loss: 1.3056\n",
      "Epoch 32/200\n",
      "162/162 [==============================] - 0s 80us/sample - loss: 1.4810\n",
      "Epoch 33/200\n",
      "162/162 [==============================] - 0s 92us/sample - loss: 1.6617\n",
      "Epoch 34/200\n",
      "162/162 [==============================] - 0s 86us/sample - loss: 1.5180\n",
      "Epoch 35/200\n",
      "162/162 [==============================] - 0s 62us/sample - loss: 1.2754\n",
      "Epoch 36/200\n",
      "162/162 [==============================] - 0s 74us/sample - loss: 1.0006\n",
      "Epoch 37/200\n",
      "162/162 [==============================] - 0s 86us/sample - loss: 0.9374\n",
      "Epoch 38/200\n",
      "162/162 [==============================] - 0s 80us/sample - loss: 1.2750\n",
      "Epoch 39/200\n",
      "162/162 [==============================] - 0s 74us/sample - loss: 0.9838\n",
      "Epoch 40/200\n",
      "162/162 [==============================] - 0s 86us/sample - loss: 0.9461\n",
      "Epoch 41/200\n",
      "162/162 [==============================] - 0s 86us/sample - loss: 0.9237\n",
      "Epoch 42/200\n",
      "162/162 [==============================] - 0s 86us/sample - loss: 1.0076\n",
      "Epoch 43/200\n",
      "162/162 [==============================] - 0s 68us/sample - loss: 0.9594\n",
      "Epoch 44/200\n",
      "162/162 [==============================] - 0s 80us/sample - loss: 1.0478\n",
      "Epoch 45/200\n",
      "162/162 [==============================] - 0s 86us/sample - loss: 1.1042\n",
      "Epoch 46/200\n",
      "162/162 [==============================] - 0s 80us/sample - loss: 1.6623\n",
      "Epoch 47/200\n",
      "162/162 [==============================] - 0s 80us/sample - loss: 1.9967\n",
      "Epoch 48/200\n",
      "162/162 [==============================] - 0s 92us/sample - loss: 1.5514\n",
      "Epoch 49/200\n",
      "162/162 [==============================] - 0s 92us/sample - loss: 1.5487\n",
      "Epoch 50/200\n",
      "162/162 [==============================] - 0s 99us/sample - loss: 1.0286\n",
      "Epoch 51/200\n",
      "162/162 [==============================] - 0s 92us/sample - loss: 3.4154\n",
      "Epoch 52/200\n",
      "162/162 [==============================] - 0s 92us/sample - loss: 2.8927\n",
      "Epoch 53/200\n",
      "162/162 [==============================] - 0s 80us/sample - loss: 1.0012\n",
      "Epoch 54/200\n",
      "162/162 [==============================] - 0s 55us/sample - loss: 1.5616\n",
      "Epoch 55/200\n",
      "162/162 [==============================] - 0s 86us/sample - loss: 1.0375\n",
      "Epoch 56/200\n",
      "162/162 [==============================] - 0s 86us/sample - loss: 0.9174\n",
      "Epoch 57/200\n",
      "162/162 [==============================] - 0s 68us/sample - loss: 0.9273\n",
      "Epoch 58/200\n",
      "162/162 [==============================] - 0s 111us/sample - loss: 0.8712\n",
      "Epoch 59/200\n",
      "162/162 [==============================] - 0s 80us/sample - loss: 0.8836\n",
      "Epoch 60/200\n",
      "162/162 [==============================] - 0s 92us/sample - loss: 0.8628\n",
      "Epoch 61/200\n",
      "162/162 [==============================] - 0s 98us/sample - loss: 0.8880\n",
      "Epoch 62/200\n",
      "162/162 [==============================] - 0s 74us/sample - loss: 0.8743\n",
      "Epoch 63/200\n",
      "162/162 [==============================] - 0s 62us/sample - loss: 0.8891\n",
      "Epoch 64/200\n",
      "162/162 [==============================] - 0s 68us/sample - loss: 0.9364\n",
      "Epoch 65/200\n",
      "162/162 [==============================] - 0s 86us/sample - loss: 0.9055\n",
      "Epoch 66/200\n",
      "162/162 [==============================] - 0s 80us/sample - loss: 0.8712\n",
      "Epoch 67/200\n",
      "162/162 [==============================] - 0s 74us/sample - loss: 0.8792\n",
      "Epoch 68/200\n",
      "162/162 [==============================] - 0s 86us/sample - loss: 0.8728\n",
      "Epoch 69/200\n",
      "162/162 [==============================] - 0s 62us/sample - loss: 0.8724\n",
      "Epoch 70/200\n",
      "162/162 [==============================] - 0s 92us/sample - loss: 0.8838\n",
      "Epoch 71/200\n",
      "162/162 [==============================] - 0s 80us/sample - loss: 0.8730\n",
      "Epoch 72/200\n",
      "162/162 [==============================] - 0s 80us/sample - loss: 0.8785\n",
      "Epoch 73/200\n",
      "162/162 [==============================] - 0s 105us/sample - loss: 0.8723\n",
      "Epoch 74/200\n",
      "162/162 [==============================] - 0s 99us/sample - loss: 0.8777\n",
      "Epoch 75/200\n",
      "162/162 [==============================] - 0s 86us/sample - loss: 0.8773\n",
      "Epoch 76/200\n",
      "162/162 [==============================] - 0s 92us/sample - loss: 0.8858\n",
      "Epoch 77/200\n",
      "162/162 [==============================] - 0s 86us/sample - loss: 0.8838\n",
      "Epoch 78/200\n",
      "162/162 [==============================] - 0s 99us/sample - loss: 0.8669\n",
      "Epoch 79/200\n",
      "162/162 [==============================] - 0s 92us/sample - loss: 0.8756\n",
      "Epoch 80/200\n",
      "162/162 [==============================] - 0s 92us/sample - loss: 0.8776\n",
      "Epoch 81/200\n",
      "162/162 [==============================] - 0s 86us/sample - loss: 0.8739\n",
      "Epoch 82/200\n",
      "162/162 [==============================] - 0s 74us/sample - loss: 0.8719\n",
      "Epoch 83/200\n",
      "162/162 [==============================] - 0s 111us/sample - loss: 0.8707\n",
      "Epoch 84/200\n",
      "162/162 [==============================] - 0s 68us/sample - loss: 0.8726\n",
      "Epoch 85/200\n",
      "162/162 [==============================] - 0s 74us/sample - loss: 0.8750\n",
      "Epoch 86/200\n",
      "162/162 [==============================] - 0s 73us/sample - loss: 0.8748\n",
      "Epoch 87/200\n",
      "162/162 [==============================] - 0s 80us/sample - loss: 0.8742\n",
      "Epoch 88/200\n",
      "162/162 [==============================] - 0s 74us/sample - loss: 0.8719\n",
      "Epoch 89/200\n",
      "162/162 [==============================] - 0s 80us/sample - loss: 0.8737\n",
      "Epoch 90/200\n",
      "162/162 [==============================] - 0s 68us/sample - loss: 0.8899\n",
      "Epoch 91/200\n",
      "162/162 [==============================] - 0s 80us/sample - loss: 0.8848\n",
      "Epoch 92/200\n",
      "162/162 [==============================] - 0s 74us/sample - loss: 0.8689\n",
      "Epoch 93/200\n",
      "162/162 [==============================] - 0s 74us/sample - loss: 0.8755\n",
      "Epoch 94/200\n",
      "162/162 [==============================] - 0s 80us/sample - loss: 0.8833\n",
      "Epoch 95/200\n"
     ]
    },
    {
     "name": "stdout",
     "output_type": "stream",
     "text": [
      "162/162 [==============================] - 0s 68us/sample - loss: 0.8828\n",
      "Epoch 96/200\n",
      "162/162 [==============================] - 0s 86us/sample - loss: 0.8984\n",
      "Epoch 97/200\n",
      "162/162 [==============================] - 0s 86us/sample - loss: 0.9199\n",
      "Epoch 98/200\n",
      "162/162 [==============================] - 0s 74us/sample - loss: 0.8780\n",
      "Epoch 99/200\n",
      "162/162 [==============================] - 0s 68us/sample - loss: 0.8766\n",
      "Epoch 100/200\n",
      "162/162 [==============================] - 0s 74us/sample - loss: 0.9000\n",
      "Epoch 101/200\n",
      "162/162 [==============================] - 0s 74us/sample - loss: 0.8988\n",
      "Epoch 102/200\n",
      "162/162 [==============================] - 0s 68us/sample - loss: 0.8757\n",
      "Epoch 103/200\n",
      "162/162 [==============================] - 0s 62us/sample - loss: 0.8920\n",
      "Epoch 104/200\n",
      "162/162 [==============================] - 0s 68us/sample - loss: 0.8880\n",
      "Epoch 105/200\n",
      "162/162 [==============================] - 0s 68us/sample - loss: 0.9293\n",
      "Epoch 106/200\n",
      "162/162 [==============================] - 0s 80us/sample - loss: 0.8918\n",
      "Epoch 107/200\n",
      "162/162 [==============================] - 0s 68us/sample - loss: 0.8738\n",
      "Epoch 108/200\n",
      "162/162 [==============================] - 0s 55us/sample - loss: 0.8700\n",
      "Epoch 109/200\n",
      "162/162 [==============================] - 0s 74us/sample - loss: 0.8719\n",
      "Epoch 110/200\n",
      "162/162 [==============================] - 0s 61us/sample - loss: 0.8743\n",
      "Epoch 111/200\n",
      "162/162 [==============================] - 0s 55us/sample - loss: 0.8708\n",
      "Epoch 112/200\n",
      "162/162 [==============================] - 0s 61us/sample - loss: 0.8705\n",
      "Epoch 113/200\n",
      "162/162 [==============================] - 0s 61us/sample - loss: 0.8732\n",
      "Epoch 114/200\n",
      "162/162 [==============================] - 0s 62us/sample - loss: 0.8730\n",
      "Epoch 115/200\n",
      "162/162 [==============================] - 0s 68us/sample - loss: 0.8742\n",
      "Epoch 116/200\n",
      "162/162 [==============================] - 0s 68us/sample - loss: 0.8840\n",
      "Epoch 117/200\n",
      "162/162 [==============================] - 0s 62us/sample - loss: 0.8813\n",
      "Epoch 118/200\n",
      "162/162 [==============================] - 0s 74us/sample - loss: 0.8733\n",
      "Epoch 119/200\n",
      "162/162 [==============================] - 0s 68us/sample - loss: 0.8737\n",
      "Epoch 120/200\n",
      "162/162 [==============================] - 0s 62us/sample - loss: 0.8831\n",
      "Epoch 121/200\n",
      "162/162 [==============================] - 0s 68us/sample - loss: 0.8761\n",
      "Epoch 122/200\n",
      "162/162 [==============================] - 0s 74us/sample - loss: 0.8727\n",
      "Epoch 123/200\n",
      "162/162 [==============================] - 0s 74us/sample - loss: 0.8826\n",
      "Epoch 124/200\n",
      "162/162 [==============================] - 0s 61us/sample - loss: 0.8845\n",
      "Epoch 125/200\n",
      "162/162 [==============================] - 0s 62us/sample - loss: 0.8811\n",
      "Epoch 126/200\n",
      "162/162 [==============================] - 0s 74us/sample - loss: 0.8718\n",
      "Epoch 127/200\n",
      "162/162 [==============================] - 0s 74us/sample - loss: 0.8704\n",
      "Epoch 128/200\n",
      "162/162 [==============================] - 0s 56us/sample - loss: 0.8733\n",
      "Epoch 129/200\n",
      "162/162 [==============================] - 0s 62us/sample - loss: 0.8713\n",
      "Epoch 130/200\n",
      "162/162 [==============================] - 0s 117us/sample - loss: 0.8705\n",
      "Epoch 131/200\n",
      "162/162 [==============================] - 0s 111us/sample - loss: 0.8709\n",
      "Epoch 132/200\n",
      "162/162 [==============================] - 0s 74us/sample - loss: 0.8717\n",
      "Epoch 133/200\n",
      "162/162 [==============================] - 0s 68us/sample - loss: 0.8722\n",
      "Epoch 134/200\n",
      "162/162 [==============================] - 0s 68us/sample - loss: 0.8776\n",
      "Epoch 135/200\n",
      "162/162 [==============================] - 0s 55us/sample - loss: 0.8851\n",
      "Epoch 136/200\n",
      "162/162 [==============================] - 0s 49us/sample - loss: 0.8783\n",
      "Epoch 137/200\n",
      "162/162 [==============================] - 0s 74us/sample - loss: 0.8710\n",
      "Epoch 138/200\n",
      "162/162 [==============================] - 0s 68us/sample - loss: 0.8710\n",
      "Epoch 139/200\n",
      "162/162 [==============================] - 0s 49us/sample - loss: 0.8709\n",
      "Epoch 140/200\n",
      "162/162 [==============================] - 0s 68us/sample - loss: 0.8741\n",
      "Epoch 141/200\n",
      "162/162 [==============================] - 0s 80us/sample - loss: 0.8824\n",
      "Epoch 142/200\n",
      "162/162 [==============================] - 0s 62us/sample - loss: 0.8713\n",
      "Epoch 143/200\n",
      "162/162 [==============================] - 0s 68us/sample - loss: 0.8783\n",
      "Epoch 144/200\n",
      "162/162 [==============================] - 0s 68us/sample - loss: 0.8788\n",
      "Epoch 145/200\n",
      "162/162 [==============================] - 0s 68us/sample - loss: 0.8745\n",
      "Epoch 146/200\n",
      "162/162 [==============================] - 0s 68us/sample - loss: 0.9046\n",
      "Epoch 147/200\n",
      "162/162 [==============================] - 0s 55us/sample - loss: 0.9341\n",
      "Epoch 148/200\n",
      "162/162 [==============================] - 0s 68us/sample - loss: 0.8862\n",
      "Epoch 149/200\n",
      "162/162 [==============================] - 0s 61us/sample - loss: 0.8824\n",
      "Epoch 150/200\n",
      "162/162 [==============================] - 0s 55us/sample - loss: 0.8921\n",
      "Epoch 151/200\n",
      "162/162 [==============================] - 0s 74us/sample - loss: 0.8733\n",
      "Epoch 152/200\n",
      "162/162 [==============================] - 0s 74us/sample - loss: 0.8733\n",
      "Epoch 153/200\n",
      "162/162 [==============================] - 0s 55us/sample - loss: 0.8737\n",
      "Epoch 154/200\n",
      "162/162 [==============================] - 0s 61us/sample - loss: 0.8816\n",
      "Epoch 155/200\n",
      "162/162 [==============================] - 0s 68us/sample - loss: 0.9805\n",
      "Epoch 156/200\n",
      "162/162 [==============================] - 0s 74us/sample - loss: 0.9709\n",
      "Epoch 157/200\n",
      "162/162 [==============================] - 0s 62us/sample - loss: 0.8962\n",
      "Epoch 158/200\n",
      "162/162 [==============================] - 0s 68us/sample - loss: 0.8992\n",
      "Epoch 159/200\n",
      "162/162 [==============================] - 0s 62us/sample - loss: 0.8760\n",
      "Epoch 160/200\n",
      "162/162 [==============================] - 0s 68us/sample - loss: 0.8861\n",
      "Epoch 161/200\n",
      "162/162 [==============================] - 0s 68us/sample - loss: 0.8752\n",
      "Epoch 162/200\n",
      "162/162 [==============================] - 0s 74us/sample - loss: 0.8828\n",
      "Epoch 163/200\n",
      "162/162 [==============================] - 0s 61us/sample - loss: 0.8788\n",
      "Epoch 164/200\n",
      "162/162 [==============================] - 0s 62us/sample - loss: 0.8711\n",
      "Epoch 165/200\n",
      "162/162 [==============================] - 0s 74us/sample - loss: 0.8739\n",
      "Epoch 166/200\n",
      "162/162 [==============================] - 0s 80us/sample - loss: 0.8717\n",
      "Epoch 167/200\n",
      "162/162 [==============================] - 0s 61us/sample - loss: 0.8715\n",
      "Epoch 168/200\n",
      "162/162 [==============================] - 0s 68us/sample - loss: 0.8711\n",
      "Epoch 169/200\n",
      "162/162 [==============================] - 0s 68us/sample - loss: 0.8733\n",
      "Epoch 170/200\n",
      "162/162 [==============================] - 0s 74us/sample - loss: 0.8700\n",
      "Epoch 171/200\n",
      "162/162 [==============================] - 0s 80us/sample - loss: 0.8728\n",
      "Epoch 172/200\n",
      "162/162 [==============================] - 0s 74us/sample - loss: 0.8722\n",
      "Epoch 173/200\n",
      "162/162 [==============================] - 0s 68us/sample - loss: 0.8702\n",
      "Epoch 174/200\n",
      "162/162 [==============================] - 0s 74us/sample - loss: 0.8865\n",
      "Epoch 175/200\n",
      "162/162 [==============================] - 0s 80us/sample - loss: 0.8825\n",
      "Epoch 176/200\n",
      "162/162 [==============================] - 0s 74us/sample - loss: 0.8841\n",
      "Epoch 177/200\n",
      "162/162 [==============================] - 0s 68us/sample - loss: 0.8790\n",
      "Epoch 178/200\n",
      "162/162 [==============================] - 0s 62us/sample - loss: 0.8768\n",
      "Epoch 179/200\n",
      "162/162 [==============================] - 0s 74us/sample - loss: 0.8856\n",
      "Epoch 180/200\n",
      "162/162 [==============================] - 0s 68us/sample - loss: 0.8708\n",
      "Epoch 181/200\n",
      "162/162 [==============================] - 0s 62us/sample - loss: 0.8753\n",
      "Epoch 182/200\n",
      "162/162 [==============================] - 0s 68us/sample - loss: 0.8730\n",
      "Epoch 183/200\n",
      "162/162 [==============================] - 0s 62us/sample - loss: 0.8713\n",
      "Epoch 184/200\n",
      "162/162 [==============================] - 0s 62us/sample - loss: 0.8790\n",
      "Epoch 185/200\n",
      "162/162 [==============================] - 0s 62us/sample - loss: 0.8790\n",
      "Epoch 186/200\n",
      "162/162 [==============================] - 0s 55us/sample - loss: 0.8676\n",
      "Epoch 187/200\n",
      "162/162 [==============================] - 0s 62us/sample - loss: 0.8826\n",
      "Epoch 188/200\n",
      "162/162 [==============================] - 0s 62us/sample - loss: 0.8790\n",
      "Epoch 189/200\n"
     ]
    },
    {
     "name": "stdout",
     "output_type": "stream",
     "text": [
      "162/162 [==============================] - 0s 62us/sample - loss: 0.8744\n",
      "Epoch 190/200\n",
      "162/162 [==============================] - 0s 74us/sample - loss: 0.8740\n",
      "Epoch 191/200\n",
      "162/162 [==============================] - 0s 55us/sample - loss: 0.8729\n",
      "Epoch 192/200\n",
      "162/162 [==============================] - 0s 62us/sample - loss: 0.8793\n",
      "Epoch 193/200\n",
      "162/162 [==============================] - 0s 68us/sample - loss: 0.8856\n",
      "Epoch 194/200\n",
      "162/162 [==============================] - 0s 55us/sample - loss: 0.8742\n",
      "Epoch 195/200\n",
      "162/162 [==============================] - 0s 68us/sample - loss: 0.8742\n",
      "Epoch 196/200\n",
      "162/162 [==============================] - 0s 74us/sample - loss: 0.8731\n",
      "Epoch 197/200\n",
      "162/162 [==============================] - 0s 49us/sample - loss: 0.8843\n",
      "Epoch 198/200\n",
      "162/162 [==============================] - 0s 62us/sample - loss: 0.8773\n",
      "Epoch 199/200\n",
      "162/162 [==============================] - 0s 68us/sample - loss: 0.8819\n",
      "Epoch 200/200\n",
      "162/162 [==============================] - 0s 68us/sample - loss: 0.8806\n"
     ]
    }
   ],
   "source": [
    "model.compile(optimizer=tf.keras.optimizers.SGD(0.001, 0.9), loss='mse')\n",
    "\n",
    "#learning rate scheduler\n",
    "def schedule(epoch, lr):\n",
    "    if epoch >= 50:\n",
    "        return 0.0001\n",
    "    return 0.001\n",
    "\n",
    "scheduler = tf.keras.callbacks.LearningRateScheduler(schedule)\n",
    "\n",
    "#Train the model\n",
    "r = model.fit(X, Y, epochs=200, callbacks=[scheduler])"
   ]
  },
  {
   "cell_type": "code",
   "execution_count": 9,
   "metadata": {},
   "outputs": [
    {
     "data": {
      "text/plain": [
       "[<matplotlib.lines.Line2D at 0x1cf44f0a438>]"
      ]
     },
     "execution_count": 9,
     "metadata": {},
     "output_type": "execute_result"
    },
    {
     "data": {
      "image/png": "[encoded data removed]",
      "text/plain": [
       "<Figure size 432x288 with 1 Axes>"
      ]
     },
     "metadata": {},
     "output_type": "display_data"
    }
   ],
   "source": [
    "plt.plot(r.history['loss'], label='loss')"
   ]
  },
  {
   "cell_type": "code",
   "execution_count": 10,
   "metadata": {},
   "outputs": [
    {
     "name": "stdout",
     "output_type": "stream",
     "text": [
      "[<tensorflow.python.keras.layers.core.Dense object at 0x000001CF3AC086D8>]\n",
      "[array([[0.3399087]], dtype=float32), array([17.755287], dtype=float32)]\n"
     ]
    }
   ],
   "source": [
    "print(model.layers)\n",
    "print(model.layers[0].get_weights())"
   ]
  },
  {
   "cell_type": "code",
   "execution_count": 12,
   "metadata": {},
   "outputs": [
    {
     "data": {
      "text/plain": [
       "0.3399087"
      ]
     },
     "execution_count": 12,
     "metadata": {},
     "output_type": "execute_result"
    }
   ],
   "source": [
    "#Slope of the line is \n",
    "\n",
    "model.layers[0].get_weights()[0][0,0]"
   ]
  },
  {
   "cell_type": "code",
   "execution_count": null,
   "metadata": {},
   "outputs": [],
   "source": []
  }
 ],
 "metadata": {
  "kernelspec": {
   "display_name": "Python 3",
   "language": "python",
   "name": "python3"
  },
  "language_info": {
   "codemirror_mode": {
    "name": "ipython",
    "version": 3
   },
   "file_extension": ".py",
   "mimetype": "text/x-python",
   "name": "python",
   "nbconvert_exporter": "python",
   "pygments_lexer": "ipython3",
   "version": "3.6.1"
  }
 },
 "nbformat": 4,
 "nbformat_minor": 2
}
