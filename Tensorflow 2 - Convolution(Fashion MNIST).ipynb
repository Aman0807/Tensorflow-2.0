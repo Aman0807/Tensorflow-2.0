{
 "cells": [
  {
   "cell_type": "markdown",
   "metadata": {},
   "source": [
    "### AIM\n",
    "\n",
    "This notebook uses Fashion MNIST dataset to perform multi-label classification using a simple convolutional neural network.\n",
    "\n",
    "Steps:\n",
    "1. Import Dependencies\n",
    "2. Load data and split it into training and test sets\n",
    "3. Preprocessing\n",
    "4. Create Neural Network\n",
    "5. Train\n",
    "6. Evaluate and make predictions on test set. \n",
    "\n",
    "\n"
   ]
  },
  {
   "cell_type": "code",
   "execution_count": 1,
   "metadata": {},
   "outputs": [
    {
     "name": "stderr",
     "output_type": "stream",
     "text": [
      "C:\\Users\\Dell\\Anaconda3\\lib\\site-packages\\h5py\\__init__.py:36: FutureWarning: Conversion of the second argument of issubdtype from `float` to `np.floating` is deprecated. In future, it will be treated as `np.float64 == np.dtype(float).type`.\n",
      "  from ._conv import register_converters as _register_converters\n"
     ]
    },
    {
     "name": "stdout",
     "output_type": "stream",
     "text": [
      "2.0.0\n"
     ]
    }
   ],
   "source": [
    "import tensorflow as tf\n",
    "print(tf.__version__)"
   ]
  },
  {
   "cell_type": "code",
   "execution_count": 2,
   "metadata": {},
   "outputs": [],
   "source": [
    "import numpy as np\n",
    "import matplotlib.pyplot as plt\n",
    "from tensorflow.keras.layers import Input, Conv2D, Dense, Flatten, Dropout\n",
    "from tensorflow.keras.models import Model"
   ]
  },
  {
   "cell_type": "code",
   "execution_count": 3,
   "metadata": {},
   "outputs": [
    {
     "name": "stdout",
     "output_type": "stream",
     "text": [
      "x_train shape:  (60000, 28, 28)\n"
     ]
    }
   ],
   "source": [
    "#Load in the data\n",
    "\n",
    "fashion_mnist = tf.keras.datasets.fashion_mnist\n",
    "\n",
    "(x_train, y_train), (x_test, y_test) = fashion_mnist.load_data()\n",
    "x_train, x_test = x_train/255.0, x_test/255.0\n",
    "print(\"x_train shape: \", x_train.shape)"
   ]
  },
  {
   "cell_type": "code",
   "execution_count": 4,
   "metadata": {},
   "outputs": [
    {
     "name": "stdout",
     "output_type": "stream",
     "text": [
      "(60000, 28, 28, 1)\n"
     ]
    }
   ],
   "source": [
    "# the images are 2D grayscale images \n",
    "# But convolution expects 3D (height, width, channels)\n",
    "\n",
    "x_train = np.expand_dims(x_train, -1)\n",
    "x_test = np.expand_dims(x_test, -1)\n",
    "print(x_train.shape)"
   ]
  },
  {
   "cell_type": "code",
   "execution_count": 6,
   "metadata": {},
   "outputs": [
    {
     "name": "stdout",
     "output_type": "stream",
     "text": [
      "Number of classes:  10\n",
      "{0, 1, 2, 3, 4, 5, 6, 7, 8, 9}\n"
     ]
    }
   ],
   "source": [
    "# number of classes\n",
    "\n",
    "k = len(set(y_train))\n",
    "print(\"Number of classes: \", k)\n",
    "print(set(y_train))"
   ]
  },
  {
   "cell_type": "code",
   "execution_count": 7,
   "metadata": {},
   "outputs": [],
   "source": [
    "# Build the model using the functional API\n",
    "\n",
    "i = Input(shape=x_train[0].shape)\n",
    "x = Conv2D(32, (3, 3), strides=2, activation='relu')(i)\n",
    "x = Conv2D(64, (3, 3), strides=2, activation='relu')(x)\n",
    "x = Conv2D(128, (3, 3), strides=2, activation='relu')(x)\n",
    "x = Flatten()(x)\n",
    "x = Dropout(0.2)(x)\n",
    "x = Dense(512, activation='relu')(x)\n",
    "x = Dropout(0.2)(x)\n",
    "x = Dense(k, activation='softmax')(x)\n",
    "\n",
    "model = Model(i, x)\n"
   ]
  },
  {
   "cell_type": "code",
   "execution_count": 8,
   "metadata": {},
   "outputs": [
    {
     "name": "stdout",
     "output_type": "stream",
     "text": [
      "Train on 60000 samples, validate on 10000 samples\n",
      "Epoch 1/15\n",
      "60000/60000 [==============================] - 29s 487us/sample - loss: 0.5257 - accuracy: 0.8070 - val_loss: 0.4015 - val_accuracy: 0.8508\n",
      "Epoch 2/15\n",
      "60000/60000 [==============================] - 25s 411us/sample - loss: 0.3618 - accuracy: 0.8639 - val_loss: 0.3610 - val_accuracy: 0.8715\n",
      "Epoch 3/15\n",
      "60000/60000 [==============================] - 22s 360us/sample - loss: 0.3132 - accuracy: 0.8831 - val_loss: 0.3201 - val_accuracy: 0.8841\n",
      "Epoch 4/15\n",
      "60000/60000 [==============================] - 22s 363us/sample - loss: 0.2786 - accuracy: 0.8948 - val_loss: 0.3191 - val_accuracy: 0.8863\n",
      "Epoch 5/15\n",
      "60000/60000 [==============================] - 21s 352us/sample - loss: 0.2549 - accuracy: 0.9034 - val_loss: 0.2903 - val_accuracy: 0.8924\n",
      "Epoch 6/15\n",
      "60000/60000 [==============================] - 26s 426us/sample - loss: 0.2308 - accuracy: 0.9123 - val_loss: 0.2989 - val_accuracy: 0.8944\n",
      "Epoch 7/15\n",
      "60000/60000 [==============================] - 22s 363us/sample - loss: 0.2150 - accuracy: 0.9190 - val_loss: 0.2959 - val_accuracy: 0.8959\n",
      "Epoch 8/15\n",
      "60000/60000 [==============================] - 21s 358us/sample - loss: 0.1983 - accuracy: 0.9256 - val_loss: 0.2948 - val_accuracy: 0.8990\n",
      "Epoch 9/15\n",
      "60000/60000 [==============================] - 29s 490us/sample - loss: 0.1825 - accuracy: 0.9307 - val_loss: 0.3020 - val_accuracy: 0.9003\n",
      "Epoch 10/15\n",
      "60000/60000 [==============================] - 37s 610us/sample - loss: 0.1694 - accuracy: 0.9355 - val_loss: 0.3327 - val_accuracy: 0.8951\n",
      "Epoch 11/15\n",
      "60000/60000 [==============================] - 37s 609us/sample - loss: 0.1629 - accuracy: 0.9377 - val_loss: 0.3211 - val_accuracy: 0.8957\n",
      "Epoch 12/15\n",
      "60000/60000 [==============================] - 30s 500us/sample - loss: 0.1497 - accuracy: 0.9426 - val_loss: 0.3231 - val_accuracy: 0.9003\n",
      "Epoch 13/15\n",
      "60000/60000 [==============================] - 23s 390us/sample - loss: 0.1418 - accuracy: 0.9463 - val_loss: 0.3312 - val_accuracy: 0.9014\n",
      "Epoch 14/15\n",
      "60000/60000 [==============================] - 23s 381us/sample - loss: 0.1323 - accuracy: 0.9497 - val_loss: 0.3628 - val_accuracy: 0.8978\n",
      "Epoch 15/15\n",
      "60000/60000 [==============================] - 22s 366us/sample - loss: 0.1242 - accuracy: 0.9518 - val_loss: 0.3657 - val_accuracy: 0.9014\n"
     ]
    }
   ],
   "source": [
    "# Compile and fit\n",
    "\n",
    "model.compile(optimizer='adam', loss='sparse_categorical_crossentropy', metrics=['accuracy'])\n",
    "\n",
    "r = model.fit(x_train, y_train, validation_data=(x_test, y_test), epochs=15)\n"
   ]
  },
  {
   "cell_type": "code",
   "execution_count": 9,
   "metadata": {},
   "outputs": [
    {
     "data": {
      "text/plain": [
       "<matplotlib.legend.Legend at 0x1ea34a2f358>"
      ]
     },
     "execution_count": 9,
     "metadata": {},
     "output_type": "execute_result"
    },
    {
     "data": {
      "image/png": "[encoded data removed]",
      "text/plain": [
       "<Figure size 432x288 with 1 Axes>"
      ]
     },
     "metadata": {},
     "output_type": "display_data"
    }
   ],
   "source": [
    "# Plot loss per iteration\n",
    "\n",
    "plt.plot(r.history['loss'], label='loss')\n",
    "plt.plot(r.history['val_loss'], label='val_loss')\n",
    "plt.legend()"
   ]
  },
  {
   "cell_type": "code",
   "execution_count": 10,
   "metadata": {},
   "outputs": [
    {
     "data": {
      "text/plain": [
       "<matplotlib.legend.Legend at 0x1ea34ad8eb8>"
      ]
     },
     "execution_count": 10,
     "metadata": {},
     "output_type": "execute_result"
    },
    {
     "data": {
      "image/png": "[encoded data removed]",
      "text/plain": [
       "<Figure size 432x288 with 1 Axes>"
      ]
     },
     "metadata": {},
     "output_type": "display_data"
    }
   ],
   "source": [
    "# Plot accuracy per iteration\n",
    "\n",
    "plt.plot(r.history['accuracy'], label='acc')\n",
    "plt.plot(r.history['val_accuracy'], label='val_acc')\n",
    "plt.legend()\n"
   ]
  },
  {
   "cell_type": "code",
   "execution_count": 11,
   "metadata": {},
   "outputs": [
    {
     "name": "stdout",
     "output_type": "stream",
     "text": [
      "Confusion matrix, without normalizaion\n",
      "[[877   2  20  16   4   3  70   0   8   0]\n",
      " [  2 975   1  13   4   0   3   0   2   0]\n",
      " [ 24   0 855  11  59   0  49   0   2   0]\n",
      " [ 17   5  13 916  31   0  18   0   0   0]\n",
      " [  1   0  46  30 815   0 104   0   4   0]\n",
      " [  0   0   0   1   0 969   0  22   1   7]\n",
      " [119   2  68  21  72   0 711   0   7   0]\n",
      " [  0   0   0   0   0   5   0 960   1  34]\n",
      " [  5   0   3   3   5   1   8   3 972   0]\n",
      " [  1   0   0   0   0   8   0  26   1 964]]\n"
     ]
    },
    {
     "data": {
      "image/png": "[encoded data removed]",
      "text/plain": [
       "<Figure size 432x288 with 2 Axes>"
      ]
     },
     "metadata": {},
     "output_type": "display_data"
    }
   ],
   "source": [
    "#Plot confusion matrix\n",
    "\n",
    "from sklearn.metrics import confusion_matrix\n",
    "import numpy as np\n",
    "import itertools\n",
    "\n",
    "def plot_confusion_matrix(cm, classes, normalize=False, title='Confusion Matrix', \n",
    "                         cmap=plt.cm.Blues):\n",
    "    \n",
    "    \"\"\"\n",
    "    This function prints and plots the confusion matrix.Normalization can be \n",
    "    applied by setting 'normalize=True'\n",
    "    \"\"\"\n",
    "    \n",
    "    if normalize:\n",
    "        cm = cm.astype('float')/cm.sum(axis=1)[:,np.newaxis]\n",
    "        print(\"Normalized confusion matrix\")\n",
    "    else:\n",
    "        print(\"Confusion matrix, without normalizaion\")\n",
    "        \n",
    "    print(cm)\n",
    "    \n",
    "    plt.imshow(cm, interpolation='nearest', cmap=cmap)\n",
    "    plt.title(title)\n",
    "    plt.colorbar()\n",
    "    tick_marks = np.arange(len(classes))\n",
    "    plt.xticks(tick_marks, classes, rotation=45)\n",
    "    plt.yticks(tick_marks, classes)\n",
    "    \n",
    "    fmt = '.2f' if normalize else 'd'\n",
    "    thresh = cm.max()/2.\n",
    "    \n",
    "    for i,j in itertools.product(range(cm.shape[0]), range(cm.shape[1])):\n",
    "        plt.text(j, i, format(cm[i, j], fmt), horizontalalignment='center', \n",
    "                 color='white' if cm[i, j] > thresh else \"black\")\n",
    "        \n",
    "    plt.tight_layout()\n",
    "    plt.ylabel(\"True Label\")\n",
    "    plt.xlabel(\"Predicted Label\")\n",
    "    plt.show()\n",
    "    \n",
    "p_test = model.predict(x_test).argmax(axis=1)\n",
    "cm = confusion_matrix(y_test, p_test)\n",
    "plot_confusion_matrix(cm, list(range(10)))\n",
    "\n",
    "    "
   ]
  },
  {
   "cell_type": "code",
   "execution_count": 14,
   "metadata": {},
   "outputs": [
    {
     "data": {
      "image/png": "[encoded data removed]",
      "text/plain": [
       "<Figure size 432x288 with 1 Axes>"
      ]
     },
     "metadata": {},
     "output_type": "display_data"
    }
   ],
   "source": [
    "#Show some misclassified examples\n",
    "\n",
    "misclassified_idx = np.where(p_test != y_test)[0]\n",
    "i = np.random.choice(misclassified_idx)\n",
    "plt.imshow(x_test[i].reshape(28, 28), cmap='gray')\n",
    "plt.title(\"True label: %s Predicted: %s\" % (y_test[i], p_test[i]));"
   ]
  },
  {
   "cell_type": "code",
   "execution_count": 19,
   "metadata": {},
   "outputs": [],
   "source": [
    "#Label mapping\n",
    "\n",
    "labels = '''T-shirt/top Trouser Pullover Dress Coat Sandal Shirt Sneaker Bag AnkleBoot'''.split()"
   ]
  },
  {
   "cell_type": "code",
   "execution_count": 20,
   "metadata": {},
   "outputs": [
    {
     "data": {
      "text/plain": [
       "['T-shirt/top',\n",
       " 'Trouser',\n",
       " 'Pullover',\n",
       " 'Dress',\n",
       " 'Coat',\n",
       " 'Sandal',\n",
       " 'Shirt',\n",
       " 'Sneaker',\n",
       " 'Bag',\n",
       " 'AnkleBoot']"
      ]
     },
     "execution_count": 20,
     "metadata": {},
     "output_type": "execute_result"
    }
   ],
   "source": [
    "labels"
   ]
  },
  {
   "cell_type": "markdown",
   "metadata": {},
   "source": [
    "It confuses T-shirt/top with a shirt which kind of makes sense. "
   ]
  }
 ],
 "metadata": {
  "kernelspec": {
   "display_name": "Python 3",
   "language": "python",
   "name": "python3"
  },
  "language_info": {
   "codemirror_mode": {
    "name": "ipython",
    "version": 3
   },
   "file_extension": ".py",
   "mimetype": "text/x-python",
   "name": "python",
   "nbconvert_exporter": "python",
   "pygments_lexer": "ipython3",
   "version": "3.6.1"
  }
 },
 "nbformat": 4,
 "nbformat_minor": 2
}
